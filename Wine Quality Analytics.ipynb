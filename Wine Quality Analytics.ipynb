{
 "cells": [
  {
   "cell_type": "markdown",
   "metadata": {},
   "source": [
    "# Quality Assessment of Red Wine - Analysis and arrival delay prediction.\n",
    "#### By: Swati Kohli"
   ]
  },
  {
   "cell_type": "markdown",
   "metadata": {},
   "source": [
    "Red wine quality data set is used. The details can be found here:  \n",
    "https://www.kaggle.com/abhishekmamidi/introduction-to-regression-complete-analysis"
   ]
  },
  {
   "cell_type": "markdown",
   "metadata": {},
   "source": [
    "One important usage of **decision tree** (and random forest, to be discussed later) is to determine the important predictors. A predictor is considered important if it increases the predictive power of the model. Feature importance is calculated as the decrease in node impurity weighted by the probability of reaching that node. The node probability can be calculated by the number of samples that reach the node, divided by the total number of samples. The higher the value the more important the feature. (source: https://towardsdatascience.com/the-mathematics-of-decision-trees-random-forest-and-feature-importance-in-scikit-learn-and-spark-f2861df67e3)"
   ]
  },
  {
   "cell_type": "markdown",
   "metadata": {},
   "source": [
    "The goal is to use the predictors to predict the wine quality. Let's extract the predictors and response."
   ]
  },
  {
   "cell_type": "code",
   "execution_count": 1,
   "metadata": {},
   "outputs": [],
   "source": [
    "import pandas as pd\n",
    "import numpy as np"
   ]
  },
  {
   "cell_type": "code",
   "execution_count": 2,
   "metadata": {},
   "outputs": [
    {
     "data": {
      "text/html": [
       "<div>\n",
       "<style scoped>\n",
       "    .dataframe tbody tr th:only-of-type {\n",
       "        vertical-align: middle;\n",
       "    }\n",
       "\n",
       "    .dataframe tbody tr th {\n",
       "        vertical-align: top;\n",
       "    }\n",
       "\n",
       "    .dataframe thead th {\n",
       "        text-align: right;\n",
       "    }\n",
       "</style>\n",
       "<table border=\"1\" class=\"dataframe\">\n",
       "  <thead>\n",
       "    <tr style=\"text-align: right;\">\n",
       "      <th></th>\n",
       "      <th>fixed acidity</th>\n",
       "      <th>volatile acidity</th>\n",
       "      <th>citric acid</th>\n",
       "      <th>residual sugar</th>\n",
       "      <th>chlorides</th>\n",
       "      <th>free sulfur dioxide</th>\n",
       "      <th>total sulfur dioxide</th>\n",
       "      <th>density</th>\n",
       "      <th>pH</th>\n",
       "      <th>sulphates</th>\n",
       "      <th>alcohol</th>\n",
       "      <th>quality</th>\n",
       "    </tr>\n",
       "  </thead>\n",
       "  <tbody>\n",
       "    <tr>\n",
       "      <td>0</td>\n",
       "      <td>7.4</td>\n",
       "      <td>0.70</td>\n",
       "      <td>0.00</td>\n",
       "      <td>1.9</td>\n",
       "      <td>0.076</td>\n",
       "      <td>11.0</td>\n",
       "      <td>34.0</td>\n",
       "      <td>0.9978</td>\n",
       "      <td>3.51</td>\n",
       "      <td>0.56</td>\n",
       "      <td>9.4</td>\n",
       "      <td>5</td>\n",
       "    </tr>\n",
       "    <tr>\n",
       "      <td>1</td>\n",
       "      <td>7.8</td>\n",
       "      <td>0.88</td>\n",
       "      <td>0.00</td>\n",
       "      <td>2.6</td>\n",
       "      <td>0.098</td>\n",
       "      <td>25.0</td>\n",
       "      <td>67.0</td>\n",
       "      <td>0.9968</td>\n",
       "      <td>3.20</td>\n",
       "      <td>0.68</td>\n",
       "      <td>9.8</td>\n",
       "      <td>5</td>\n",
       "    </tr>\n",
       "    <tr>\n",
       "      <td>2</td>\n",
       "      <td>7.8</td>\n",
       "      <td>0.76</td>\n",
       "      <td>0.04</td>\n",
       "      <td>2.3</td>\n",
       "      <td>0.092</td>\n",
       "      <td>15.0</td>\n",
       "      <td>54.0</td>\n",
       "      <td>0.9970</td>\n",
       "      <td>3.26</td>\n",
       "      <td>0.65</td>\n",
       "      <td>9.8</td>\n",
       "      <td>5</td>\n",
       "    </tr>\n",
       "    <tr>\n",
       "      <td>3</td>\n",
       "      <td>11.2</td>\n",
       "      <td>0.28</td>\n",
       "      <td>0.56</td>\n",
       "      <td>1.9</td>\n",
       "      <td>0.075</td>\n",
       "      <td>17.0</td>\n",
       "      <td>60.0</td>\n",
       "      <td>0.9980</td>\n",
       "      <td>3.16</td>\n",
       "      <td>0.58</td>\n",
       "      <td>9.8</td>\n",
       "      <td>6</td>\n",
       "    </tr>\n",
       "    <tr>\n",
       "      <td>4</td>\n",
       "      <td>7.4</td>\n",
       "      <td>0.70</td>\n",
       "      <td>0.00</td>\n",
       "      <td>1.9</td>\n",
       "      <td>0.076</td>\n",
       "      <td>11.0</td>\n",
       "      <td>34.0</td>\n",
       "      <td>0.9978</td>\n",
       "      <td>3.51</td>\n",
       "      <td>0.56</td>\n",
       "      <td>9.4</td>\n",
       "      <td>5</td>\n",
       "    </tr>\n",
       "  </tbody>\n",
       "</table>\n",
       "</div>"
      ],
      "text/plain": [
       "   fixed acidity  volatile acidity  citric acid  residual sugar  chlorides  \\\n",
       "0            7.4              0.70         0.00             1.9      0.076   \n",
       "1            7.8              0.88         0.00             2.6      0.098   \n",
       "2            7.8              0.76         0.04             2.3      0.092   \n",
       "3           11.2              0.28         0.56             1.9      0.075   \n",
       "4            7.4              0.70         0.00             1.9      0.076   \n",
       "\n",
       "   free sulfur dioxide  total sulfur dioxide  density    pH  sulphates  \\\n",
       "0                 11.0                  34.0   0.9978  3.51       0.56   \n",
       "1                 25.0                  67.0   0.9968  3.20       0.68   \n",
       "2                 15.0                  54.0   0.9970  3.26       0.65   \n",
       "3                 17.0                  60.0   0.9980  3.16       0.58   \n",
       "4                 11.0                  34.0   0.9978  3.51       0.56   \n",
       "\n",
       "   alcohol  quality  \n",
       "0      9.4        5  \n",
       "1      9.8        5  \n",
       "2      9.8        5  \n",
       "3      9.8        6  \n",
       "4      9.4        5  "
      ]
     },
     "execution_count": 2,
     "metadata": {},
     "output_type": "execute_result"
    }
   ],
   "source": [
    "wine = pd.read_csv('Data_winequality_red.csv')\n",
    "wine.head()"
   ]
  },
  {
   "cell_type": "code",
   "execution_count": 3,
   "metadata": {},
   "outputs": [
    {
     "data": {
      "text/html": [
       "<div>\n",
       "<style scoped>\n",
       "    .dataframe tbody tr th:only-of-type {\n",
       "        vertical-align: middle;\n",
       "    }\n",
       "\n",
       "    .dataframe tbody tr th {\n",
       "        vertical-align: top;\n",
       "    }\n",
       "\n",
       "    .dataframe thead th {\n",
       "        text-align: right;\n",
       "    }\n",
       "</style>\n",
       "<table border=\"1\" class=\"dataframe\">\n",
       "  <thead>\n",
       "    <tr style=\"text-align: right;\">\n",
       "      <th></th>\n",
       "      <th>fixed acidity</th>\n",
       "      <th>volatile acidity</th>\n",
       "      <th>citric acid</th>\n",
       "      <th>residual sugar</th>\n",
       "      <th>chlorides</th>\n",
       "      <th>free sulfur dioxide</th>\n",
       "      <th>total sulfur dioxide</th>\n",
       "      <th>density</th>\n",
       "      <th>pH</th>\n",
       "      <th>sulphates</th>\n",
       "      <th>alcohol</th>\n",
       "    </tr>\n",
       "  </thead>\n",
       "  <tbody>\n",
       "    <tr>\n",
       "      <td>0</td>\n",
       "      <td>7.4</td>\n",
       "      <td>0.70</td>\n",
       "      <td>0.00</td>\n",
       "      <td>1.9</td>\n",
       "      <td>0.076</td>\n",
       "      <td>11.0</td>\n",
       "      <td>34.0</td>\n",
       "      <td>0.9978</td>\n",
       "      <td>3.51</td>\n",
       "      <td>0.56</td>\n",
       "      <td>9.4</td>\n",
       "    </tr>\n",
       "    <tr>\n",
       "      <td>1</td>\n",
       "      <td>7.8</td>\n",
       "      <td>0.88</td>\n",
       "      <td>0.00</td>\n",
       "      <td>2.6</td>\n",
       "      <td>0.098</td>\n",
       "      <td>25.0</td>\n",
       "      <td>67.0</td>\n",
       "      <td>0.9968</td>\n",
       "      <td>3.20</td>\n",
       "      <td>0.68</td>\n",
       "      <td>9.8</td>\n",
       "    </tr>\n",
       "    <tr>\n",
       "      <td>2</td>\n",
       "      <td>7.8</td>\n",
       "      <td>0.76</td>\n",
       "      <td>0.04</td>\n",
       "      <td>2.3</td>\n",
       "      <td>0.092</td>\n",
       "      <td>15.0</td>\n",
       "      <td>54.0</td>\n",
       "      <td>0.9970</td>\n",
       "      <td>3.26</td>\n",
       "      <td>0.65</td>\n",
       "      <td>9.8</td>\n",
       "    </tr>\n",
       "    <tr>\n",
       "      <td>3</td>\n",
       "      <td>11.2</td>\n",
       "      <td>0.28</td>\n",
       "      <td>0.56</td>\n",
       "      <td>1.9</td>\n",
       "      <td>0.075</td>\n",
       "      <td>17.0</td>\n",
       "      <td>60.0</td>\n",
       "      <td>0.9980</td>\n",
       "      <td>3.16</td>\n",
       "      <td>0.58</td>\n",
       "      <td>9.8</td>\n",
       "    </tr>\n",
       "    <tr>\n",
       "      <td>4</td>\n",
       "      <td>7.4</td>\n",
       "      <td>0.70</td>\n",
       "      <td>0.00</td>\n",
       "      <td>1.9</td>\n",
       "      <td>0.076</td>\n",
       "      <td>11.0</td>\n",
       "      <td>34.0</td>\n",
       "      <td>0.9978</td>\n",
       "      <td>3.51</td>\n",
       "      <td>0.56</td>\n",
       "      <td>9.4</td>\n",
       "    </tr>\n",
       "  </tbody>\n",
       "</table>\n",
       "</div>"
      ],
      "text/plain": [
       "   fixed acidity  volatile acidity  citric acid  residual sugar  chlorides  \\\n",
       "0            7.4              0.70         0.00             1.9      0.076   \n",
       "1            7.8              0.88         0.00             2.6      0.098   \n",
       "2            7.8              0.76         0.04             2.3      0.092   \n",
       "3           11.2              0.28         0.56             1.9      0.075   \n",
       "4            7.4              0.70         0.00             1.9      0.076   \n",
       "\n",
       "   free sulfur dioxide  total sulfur dioxide  density    pH  sulphates  \\\n",
       "0                 11.0                  34.0   0.9978  3.51       0.56   \n",
       "1                 25.0                  67.0   0.9968  3.20       0.68   \n",
       "2                 15.0                  54.0   0.9970  3.26       0.65   \n",
       "3                 17.0                  60.0   0.9980  3.16       0.58   \n",
       "4                 11.0                  34.0   0.9978  3.51       0.56   \n",
       "\n",
       "   alcohol  \n",
       "0      9.4  \n",
       "1      9.8  \n",
       "2      9.8  \n",
       "3      9.8  \n",
       "4      9.4  "
      ]
     },
     "execution_count": 3,
     "metadata": {},
     "output_type": "execute_result"
    }
   ],
   "source": [
    "X = wine.drop('quality', axis = 1)\n",
    "y = wine.quality\n",
    "X.head()"
   ]
  },
  {
   "cell_type": "markdown",
   "metadata": {},
   "source": [
    "Split into training and testing set, using randomized search to find the best parameters."
   ]
  },
  {
   "cell_type": "code",
   "execution_count": 4,
   "metadata": {},
   "outputs": [
    {
     "data": {
      "text/plain": [
       "RandomizedSearchCV(cv=5, estimator=DecisionTreeClassifier(), n_iter=100,\n",
       "                   n_jobs=-1,\n",
       "                   param_distributions={'criterion': ['gini', 'entropy'],\n",
       "                                        'max_depth': <scipy.stats._distn_infrastructure.rv_frozen object at 0x000001CD50A4C8C8>,\n",
       "                                        'max_leaf_nodes': <scipy.stats._distn_infrastructure.rv_frozen object at 0x000001CD50AA9808>},\n",
       "                   random_state=10)"
      ]
     },
     "execution_count": 4,
     "metadata": {},
     "output_type": "execute_result"
    }
   ],
   "source": [
    "from sklearn.model_selection import train_test_split\n",
    "from sklearn.model_selection import GridSearchCV, RandomizedSearchCV\n",
    "from scipy.stats import randint\n",
    "from sklearn.tree import DecisionTreeClassifier\n",
    "\n",
    "# Split data\n",
    "X_train, X_test, y_train, y_test = train_test_split(X, y, test_size = 0.25, random_state = 1)\n",
    "\n",
    "# Set up pipeline and randomized search\n",
    "# no pipeline coz no scaling\n",
    "\n",
    "\n",
    "decision_tree =  DecisionTreeClassifier() # There is no preprocessing, so we just have one input\n",
    "\n",
    "paras = {'max_depth': randint(2,50), # Since there's no other process in the pipeline, we don't need the name of the process\n",
    "        'max_leaf_nodes': randint(2,50), # Discrete uniform distribution between 2 and 50\n",
    "        'criterion': ['gini', 'entropy']}\n",
    "\n",
    "clf_random = RandomizedSearchCV(decision_tree, paras, n_jobs = -1, cv = 5, n_iter = 100, random_state = 10) # We will randomly sample 100 different pairs\n",
    "clf_random.fit(X_train, y_train)"
   ]
  },
  {
   "cell_type": "code",
   "execution_count": 5,
   "metadata": {},
   "outputs": [
    {
     "data": {
      "text/plain": [
       "{'criterion': 'gini', 'max_depth': 48, 'max_leaf_nodes': 34}"
      ]
     },
     "execution_count": 5,
     "metadata": {},
     "output_type": "execute_result"
    }
   ],
   "source": [
    "# The best parameters\n",
    "clf_random.best_params_"
   ]
  },
  {
   "cell_type": "code",
   "execution_count": 6,
   "metadata": {},
   "outputs": [
    {
     "data": {
      "text/plain": [
       "0.6"
      ]
     },
     "execution_count": 6,
     "metadata": {},
     "output_type": "execute_result"
    }
   ],
   "source": [
    "# Accuracy on the test set\n",
    "np.mean(clf_random.predict(X_test) == y_test)"
   ]
  },
  {
   "cell_type": "code",
   "execution_count": 7,
   "metadata": {},
   "outputs": [
    {
     "data": {
      "text/plain": [
       "array([[  0,   0,   1,   0,   0,   0],\n",
       "       [  0,   0,  14,   2,   0,   0],\n",
       "       [  0,   0, 148,  22,   1,   0],\n",
       "       [  0,   0,  81,  75,  11,   0],\n",
       "       [  0,   0,   6,  19,  17,   0],\n",
       "       [  0,   0,   0,   2,   1,   0]], dtype=int64)"
      ]
     },
     "execution_count": 7,
     "metadata": {},
     "output_type": "execute_result"
    }
   ],
   "source": [
    "# Let's look at the confusion matrix\n",
    "from sklearn.metrics import confusion_matrix\n",
    "\n",
    "confusion_matrix(y_test, clf_random.predict(X_test), labels=[3,4,5,6,7,8])"
   ]
  },
  {
   "cell_type": "markdown",
   "metadata": {},
   "source": [
    "The accuracy is so low because the classes are quite unbalanced."
   ]
  },
  {
   "cell_type": "markdown",
   "metadata": {},
   "source": [
    "let's see if there's any difference if we use grid search."
   ]
  },
  {
   "cell_type": "code",
   "execution_count": 8,
   "metadata": {},
   "outputs": [
    {
     "data": {
      "text/plain": [
       "0.6075"
      ]
     },
     "execution_count": 8,
     "metadata": {},
     "output_type": "execute_result"
    }
   ],
   "source": [
    "paras = {'max_depth': range(2,50), # Since there's no other process in the pipeline, we don't need the name of the process\n",
    "        'max_leaf_nodes': range(2,50), # Discrete uniform distribution between 2 and 50\n",
    "        'criterion': ['gini', 'entropy']}\n",
    "\n",
    "\n",
    "clf_grid = GridSearchCV(decision_tree, paras, n_jobs = -1, cv = 5)\n",
    "clf_grid.fit(X_train, y_train)\n",
    "np.mean(clf_grid.predict(X_test) == y_test)"
   ]
  },
  {
   "cell_type": "markdown",
   "metadata": {},
   "source": [
    "The results are same"
   ]
  },
  {
   "cell_type": "markdown",
   "metadata": {},
   "source": [
    "Similar to logistic regression, the response variable doesn't have to be of numerical type. You can input string type response and it will able to perform the classification. Let's look at the important predictors."
   ]
  },
  {
   "cell_type": "code",
   "execution_count": 9,
   "metadata": {},
   "outputs": [
    {
     "data": {
      "text/plain": [
       "DecisionTreeClassifier(max_depth=8, max_leaf_nodes=32)"
      ]
     },
     "execution_count": 9,
     "metadata": {},
     "output_type": "execute_result"
    }
   ],
   "source": [
    "# Refit the two models\n",
    "\n",
    "random = DecisionTreeClassifier(max_depth = clf_random.best_params_['max_depth'],\n",
    "                      max_leaf_nodes = clf_random.best_params_['max_leaf_nodes'],\n",
    "                      criterion = clf_random.best_params_['criterion'])\n",
    "\n",
    "grid = DecisionTreeClassifier(max_depth = clf_grid.best_params_['max_depth'],\n",
    "                      max_leaf_nodes = clf_grid.best_params_['max_leaf_nodes'],\n",
    "                      criterion = clf_grid.best_params_['criterion'])\n",
    "\n",
    "# Fit the models\n",
    "random.fit(X_train, y_train)\n",
    "grid.fit(X_train, y_train)"
   ]
  },
  {
   "cell_type": "code",
   "execution_count": 10,
   "metadata": {},
   "outputs": [
    {
     "data": {
      "text/html": [
       "<div>\n",
       "<style scoped>\n",
       "    .dataframe tbody tr th:only-of-type {\n",
       "        vertical-align: middle;\n",
       "    }\n",
       "\n",
       "    .dataframe tbody tr th {\n",
       "        vertical-align: top;\n",
       "    }\n",
       "\n",
       "    .dataframe thead th {\n",
       "        text-align: right;\n",
       "    }\n",
       "</style>\n",
       "<table border=\"1\" class=\"dataframe\">\n",
       "  <thead>\n",
       "    <tr style=\"text-align: right;\">\n",
       "      <th></th>\n",
       "      <th>feature</th>\n",
       "      <th>randomsearch</th>\n",
       "      <th>gridsearch</th>\n",
       "    </tr>\n",
       "  </thead>\n",
       "  <tbody>\n",
       "    <tr>\n",
       "      <td>10</td>\n",
       "      <td>alcohol</td>\n",
       "      <td>0.386441</td>\n",
       "      <td>0.398452</td>\n",
       "    </tr>\n",
       "    <tr>\n",
       "      <td>9</td>\n",
       "      <td>sulphates</td>\n",
       "      <td>0.174615</td>\n",
       "      <td>0.180042</td>\n",
       "    </tr>\n",
       "    <tr>\n",
       "      <td>6</td>\n",
       "      <td>total sulfur dioxide</td>\n",
       "      <td>0.130226</td>\n",
       "      <td>0.120133</td>\n",
       "    </tr>\n",
       "    <tr>\n",
       "      <td>1</td>\n",
       "      <td>volatile acidity</td>\n",
       "      <td>0.101685</td>\n",
       "      <td>0.104846</td>\n",
       "    </tr>\n",
       "    <tr>\n",
       "      <td>3</td>\n",
       "      <td>residual sugar</td>\n",
       "      <td>0.069658</td>\n",
       "      <td>0.071823</td>\n",
       "    </tr>\n",
       "    <tr>\n",
       "      <td>5</td>\n",
       "      <td>free sulfur dioxide</td>\n",
       "      <td>0.045054</td>\n",
       "      <td>0.046454</td>\n",
       "    </tr>\n",
       "    <tr>\n",
       "      <td>7</td>\n",
       "      <td>density</td>\n",
       "      <td>0.043069</td>\n",
       "      <td>0.027467</td>\n",
       "    </tr>\n",
       "    <tr>\n",
       "      <td>4</td>\n",
       "      <td>chlorides</td>\n",
       "      <td>0.018455</td>\n",
       "      <td>0.019028</td>\n",
       "    </tr>\n",
       "    <tr>\n",
       "      <td>0</td>\n",
       "      <td>fixed acidity</td>\n",
       "      <td>0.015791</td>\n",
       "      <td>0.016282</td>\n",
       "    </tr>\n",
       "    <tr>\n",
       "      <td>8</td>\n",
       "      <td>pH</td>\n",
       "      <td>0.015006</td>\n",
       "      <td>0.015472</td>\n",
       "    </tr>\n",
       "    <tr>\n",
       "      <td>2</td>\n",
       "      <td>citric acid</td>\n",
       "      <td>0.000000</td>\n",
       "      <td>0.000000</td>\n",
       "    </tr>\n",
       "  </tbody>\n",
       "</table>\n",
       "</div>"
      ],
      "text/plain": [
       "                 feature  randomsearch  gridsearch\n",
       "10               alcohol      0.386441    0.398452\n",
       "9              sulphates      0.174615    0.180042\n",
       "6   total sulfur dioxide      0.130226    0.120133\n",
       "1       volatile acidity      0.101685    0.104846\n",
       "3         residual sugar      0.069658    0.071823\n",
       "5    free sulfur dioxide      0.045054    0.046454\n",
       "7                density      0.043069    0.027467\n",
       "4              chlorides      0.018455    0.019028\n",
       "0          fixed acidity      0.015791    0.016282\n",
       "8                     pH      0.015006    0.015472\n",
       "2            citric acid      0.000000    0.000000"
      ]
     },
     "execution_count": 10,
     "metadata": {},
     "output_type": "execute_result"
    }
   ],
   "source": [
    "importance = pd.DataFrame({'feature':X_train.columns.values, 'randomsearch':random.feature_importances_,\n",
    "                          'gridsearch': grid.feature_importances_})\n",
    "importance.sort_values(by = 'randomsearch', ascending = False)"
   ]
  },
  {
   "cell_type": "markdown",
   "metadata": {},
   "source": [
    "Both methods agree with the top 5 predictors. Lastly, let's plot the tree. We will just plot the randomized searched tree."
   ]
  },
  {
   "cell_type": "code",
   "execution_count": 13,
   "metadata": {},
   "outputs": [
    {
     "data": {
      "text/plain": [
       "[Text(116.10823170731707, 205.35999999999999, 'X[10] <= 10.525\\ngini = 0.646\\nsamples = 1199\\nvalue = [9, 37, 510, 471, 157, 15]'),\n",
       " Text(40.829268292682926, 181.2, 'X[9] <= 0.575\\ngini = 0.546\\nsamples = 727\\nvalue = [6, 23, 425, 240, 31, 2]'),\n",
       " Text(24.49756097560976, 157.04, 'X[10] <= 10.15\\ngini = 0.43\\nsamples = 291\\nvalue = [3, 15, 211, 59, 3, 0]'),\n",
       " Text(16.33170731707317, 132.88, 'gini = 0.382\\nsamples = 256\\nvalue = [2, 13, 196, 44, 1, 0]'),\n",
       " Text(32.66341463414634, 132.88, 'gini = 0.625\\nsamples = 35\\nvalue = [1, 2, 15, 15, 2, 0]'),\n",
       " Text(57.1609756097561, 157.04, 'X[6] <= 81.5\\ngini = 0.582\\nsamples = 436\\nvalue = [3, 8, 214, 181, 28, 2]'),\n",
       " Text(48.99512195121952, 132.88, 'X[1] <= 0.535\\ngini = 0.594\\nsamples = 367\\nvalue = [3, 7, 155, 173, 27, 2]'),\n",
       " Text(16.33170731707317, 108.72, 'X[9] <= 0.655\\ngini = 0.591\\nsamples = 191\\nvalue = [1, 2, 60, 104, 22, 2]'),\n",
       " Text(8.165853658536586, 84.56, 'gini = 0.559\\nsamples = 77\\nvalue = [0, 0, 36, 36, 5, 0]'),\n",
       " Text(24.49756097560976, 84.56, 'X[4] <= 0.084\\ngini = 0.577\\nsamples = 114\\nvalue = [1, 2, 24, 68, 17, 2]'),\n",
       " Text(16.33170731707317, 60.400000000000006, 'gini = 0.458\\nsamples = 65\\nvalue = [0, 0, 5, 46, 12, 2]'),\n",
       " Text(32.66341463414634, 60.400000000000006, 'X[3] <= 2.55\\ngini = 0.636\\nsamples = 49\\nvalue = [1, 2, 19, 22, 5, 0]'),\n",
       " Text(24.49756097560976, 36.24000000000001, 'gini = 0.582\\nsamples = 30\\nvalue = [1, 1, 17, 9, 2, 0]'),\n",
       " Text(40.829268292682926, 36.24000000000001, 'gini = 0.493\\nsamples = 19\\nvalue = [0, 1, 2, 13, 3, 0]'),\n",
       " Text(81.65853658536585, 108.72, 'X[10] <= 9.85\\ngini = 0.553\\nsamples = 176\\nvalue = [2, 5, 95, 69, 5, 0]'),\n",
       " Text(57.1609756097561, 84.56, 'X[3] <= 1.85\\ngini = 0.489\\nsamples = 104\\nvalue = [1, 3, 66, 34, 0, 0]'),\n",
       " Text(48.99512195121952, 60.400000000000006, 'gini = 0.231\\nsamples = 31\\nvalue = [0, 1, 27, 3, 0, 0]'),\n",
       " Text(65.32682926829268, 60.400000000000006, 'X[10] <= 9.15\\ngini = 0.533\\nsamples = 73\\nvalue = [1, 2, 39, 31, 0, 0]'),\n",
       " Text(57.1609756097561, 36.24000000000001, 'gini = 0.34\\nsamples = 10\\nvalue = [1, 0, 1, 8, 0, 0]'),\n",
       " Text(73.49268292682927, 36.24000000000001, 'gini = 0.502\\nsamples = 63\\nvalue = [0, 2, 38, 23, 0, 0]'),\n",
       " Text(106.15609756097561, 84.56, 'X[5] <= 31.0\\ngini = 0.596\\nsamples = 72\\nvalue = [1, 2, 29, 35, 5, 0]'),\n",
       " Text(97.99024390243903, 60.400000000000006, 'X[7] <= 0.996\\ngini = 0.592\\nsamples = 67\\nvalue = [1, 2, 24, 35, 5, 0]'),\n",
       " Text(89.82439024390244, 36.24000000000001, 'gini = 0.165\\nsamples = 11\\nvalue = [0, 1, 0, 10, 0, 0]'),\n",
       " Text(106.15609756097561, 36.24000000000001, 'X[7] <= 0.998\\ngini = 0.608\\nsamples = 56\\nvalue = [1, 1, 24, 25, 5, 0]'),\n",
       " Text(97.99024390243903, 12.079999999999984, 'gini = 0.535\\nsamples = 31\\nvalue = [1, 0, 19, 9, 2, 0]'),\n",
       " Text(114.3219512195122, 12.079999999999984, 'gini = 0.534\\nsamples = 25\\nvalue = [0, 1, 5, 16, 3, 0]'),\n",
       " Text(114.3219512195122, 60.400000000000006, 'gini = 0.0\\nsamples = 5\\nvalue = [0, 0, 5, 0, 0, 0]'),\n",
       " Text(65.32682926829268, 132.88, 'gini = 0.255\\nsamples = 69\\nvalue = [0, 1, 59, 8, 1, 0]'),\n",
       " Text(191.38719512195124, 181.2, 'X[1] <= 0.375\\ngini = 0.655\\nsamples = 472\\nvalue = [3, 14, 85, 231, 126, 13]'),\n",
       " Text(155.15121951219513, 157.04, 'X[10] <= 10.75\\ngini = 0.625\\nsamples = 152\\nvalue = [0, 1, 19, 57, 71, 4]'),\n",
       " Text(146.98536585365855, 132.88, 'gini = 0.52\\nsamples = 14\\nvalue = [0, 0, 9, 2, 3, 0]'),\n",
       " Text(163.3170731707317, 132.88, 'X[9] <= 0.735\\ngini = 0.592\\nsamples = 138\\nvalue = [0, 1, 10, 55, 68, 4]'),\n",
       " Text(146.98536585365855, 108.72, 'X[8] <= 3.385\\ngini = 0.59\\nsamples = 79\\nvalue = [0, 1, 5, 41, 29, 3]'),\n",
       " Text(138.81951219512194, 84.56, 'X[3] <= 3.05\\ngini = 0.611\\nsamples = 64\\nvalue = [0, 1, 4, 28, 28, 3]'),\n",
       " Text(130.65365853658537, 60.400000000000006, 'gini = 0.576\\nsamples = 51\\nvalue = [0, 0, 2, 27, 19, 3]'),\n",
       " Text(146.98536585365855, 60.400000000000006, 'X[10] <= 11.55\\ngini = 0.485\\nsamples = 13\\nvalue = [0, 1, 2, 1, 9, 0]'),\n",
       " Text(138.81951219512194, 36.24000000000001, 'gini = 0.625\\nsamples = 4\\nvalue = [0, 1, 2, 1, 0, 0]'),\n",
       " Text(155.15121951219513, 36.24000000000001, 'gini = 0.0\\nsamples = 9\\nvalue = [0, 0, 0, 0, 9, 0]'),\n",
       " Text(155.15121951219513, 84.56, 'gini = 0.24\\nsamples = 15\\nvalue = [0, 0, 1, 13, 1, 0]'),\n",
       " Text(179.64878048780488, 108.72, 'X[1] <= 0.335\\ngini = 0.499\\nsamples = 59\\nvalue = [0, 0, 5, 14, 39, 1]'),\n",
       " Text(171.4829268292683, 84.56, 'gini = 0.272\\nsamples = 39\\nvalue = [0, 0, 1, 4, 33, 1]'),\n",
       " Text(187.81463414634146, 84.56, 'X[6] <= 67.0\\ngini = 0.62\\nsamples = 20\\nvalue = [0, 0, 4, 10, 6, 0]'),\n",
       " Text(179.64878048780488, 60.400000000000006, 'gini = 0.48\\nsamples = 15\\nvalue = [0, 0, 0, 9, 6, 0]'),\n",
       " Text(195.98048780487807, 60.400000000000006, 'gini = 0.32\\nsamples = 5\\nvalue = [0, 0, 4, 1, 0, 0]'),\n",
       " Text(227.62317073170732, 157.04, 'X[9] <= 0.585\\ngini = 0.63\\nsamples = 320\\nvalue = [3, 13, 66, 174, 55, 9]'),\n",
       " Text(204.14634146341464, 132.88, 'X[7] <= 0.992\\ngini = 0.656\\nsamples = 101\\nvalue = [3, 10, 41, 41, 6, 0]'),\n",
       " Text(195.98048780487807, 108.72, 'gini = 0.0\\nsamples = 6\\nvalue = [0, 0, 0, 6, 0, 0]'),\n",
       " Text(212.31219512195122, 108.72, 'gini = 0.662\\nsamples = 95\\nvalue = [3, 10, 41, 35, 6, 0]'),\n",
       " Text(251.1, 132.88, 'X[10] <= 11.55\\ngini = 0.566\\nsamples = 219\\nvalue = [0, 3, 25, 133, 49, 9]'),\n",
       " Text(228.6439024390244, 108.72, 'X[3] <= 2.95\\ngini = 0.459\\nsamples = 135\\nvalue = [0, 3, 21, 96, 14, 1]'),\n",
       " Text(220.4780487804878, 84.56, 'X[6] <= 74.5\\ngini = 0.358\\nsamples = 113\\nvalue = [0, 1, 15, 89, 7, 1]'),\n",
       " Text(212.31219512195122, 60.400000000000006, 'gini = 0.313\\nsamples = 106\\nvalue = [0, 1, 10, 87, 7, 1]'),\n",
       " Text(228.6439024390244, 60.400000000000006, 'gini = 0.408\\nsamples = 7\\nvalue = [0, 0, 5, 2, 0, 0]'),\n",
       " Text(236.80975609756098, 84.56, 'gini = 0.715\\nsamples = 22\\nvalue = [0, 2, 6, 7, 7, 0]'),\n",
       " Text(273.5560975609756, 108.72, 'X[9] <= 0.685\\ngini = 0.621\\nsamples = 84\\nvalue = [0, 0, 4, 37, 35, 8]'),\n",
       " Text(253.14146341463416, 84.56, 'X[6] <= 17.5\\ngini = 0.545\\nsamples = 35\\nvalue = [0, 0, 4, 21, 10, 0]'),\n",
       " Text(244.97560975609755, 60.400000000000006, 'gini = 0.0\\nsamples = 7\\nvalue = [0, 0, 0, 0, 7, 0]'),\n",
       " Text(261.30731707317074, 60.400000000000006, 'gini = 0.406\\nsamples = 28\\nvalue = [0, 0, 4, 21, 3, 0]'),\n",
       " Text(293.9707317073171, 84.56, 'X[5] <= 8.5\\ngini = 0.606\\nsamples = 49\\nvalue = [0, 0, 0, 16, 25, 8]'),\n",
       " Text(277.6390243902439, 60.400000000000006, 'X[9] <= 0.73\\ngini = 0.571\\nsamples = 14\\nvalue = [0, 0, 0, 8, 2, 4]'),\n",
       " Text(269.47317073170734, 36.24000000000001, 'gini = 0.32\\nsamples = 5\\nvalue = [0, 0, 0, 1, 0, 4]'),\n",
       " Text(285.8048780487805, 36.24000000000001, 'gini = 0.346\\nsamples = 9\\nvalue = [0, 0, 0, 7, 2, 0]'),\n",
       " Text(310.30243902439025, 60.400000000000006, 'X[5] <= 18.5\\ngini = 0.503\\nsamples = 35\\nvalue = [0, 0, 0, 8, 23, 4]'),\n",
       " Text(302.13658536585365, 36.24000000000001, 'gini = 0.111\\nsamples = 17\\nvalue = [0, 0, 0, 0, 16, 1]'),\n",
       " Text(318.46829268292686, 36.24000000000001, 'X[0] <= 9.1\\ngini = 0.623\\nsamples = 18\\nvalue = [0, 0, 0, 8, 7, 3]'),\n",
       " Text(310.30243902439025, 12.079999999999984, 'gini = 0.544\\nsamples = 13\\nvalue = [0, 0, 0, 8, 2, 3]'),\n",
       " Text(326.6341463414634, 12.079999999999984, 'gini = 0.0\\nsamples = 5\\nvalue = [0, 0, 0, 0, 5, 0]')]"
      ]
     },
     "execution_count": 13,
     "metadata": {},
     "output_type": "execute_result"
    },
    {
     "data": {
      "image/png": "[encoded data removed]",
      "text/plain": [
       "<Figure size 432x288 with 1 Axes>"
      ]
     },
     "metadata": {
      "needs_background": "light"
     },
     "output_type": "display_data"
    }
   ],
   "source": [
    "from sklearn import tree\n",
    "from sklearn.tree import export_graphviz\n",
    "\n",
    "tree.plot_tree(random)"
   ]
  },
  {
   "cell_type": "code",
   "execution_count": 12,
   "metadata": {},
   "outputs": [
    {
     "data": {
      "text/plain": [
       "[Text(167.4, 181.2, 'alcohol <= 10.525\\ngini = 0.646\\nsamples = 1199\\nvalue = [9, 37, 510, 471, 157, 15]'),\n",
       " Text(83.7, 108.72, 'sulphates <= 0.575\\ngini = 0.546\\nsamples = 727\\nvalue = [6, 23, 425, 240, 31, 2]'),\n",
       " Text(41.85, 36.23999999999998, 'gini = 0.43\\nsamples = 291\\nvalue = [3, 15, 211, 59, 3, 0]'),\n",
       " Text(125.55000000000001, 36.23999999999998, 'gini = 0.582\\nsamples = 436\\nvalue = [3, 8, 214, 181, 28, 2]'),\n",
       " Text(251.10000000000002, 108.72, 'volatile acidity <= 0.375\\ngini = 0.655\\nsamples = 472\\nvalue = [3, 14, 85, 231, 126, 13]'),\n",
       " Text(209.25, 36.23999999999998, 'gini = 0.625\\nsamples = 152\\nvalue = [0, 1, 19, 57, 71, 4]'),\n",
       " Text(292.95, 36.23999999999998, 'gini = 0.63\\nsamples = 320\\nvalue = [3, 13, 66, 174, 55, 9]')]"
      ]
     },
     "execution_count": 12,
     "metadata": {},
     "output_type": "execute_result"
    },
    {
     "data": {
      "image/png": "[encoded data removed]",
      "text/plain": [
       "<Figure size 432x288 with 1 Axes>"
      ]
     },
     "metadata": {
      "needs_background": "light"
     },
     "output_type": "display_data"
    }
   ],
   "source": [
    "# Let's fit a smaller tree so we can see the plot better\n",
    "\n",
    "\n",
    "small_clf = DecisionTreeClassifier(max_depth = 2, random_state = 1)\n",
    "small_clf.fit(X_train, y_train)\n",
    "tree.plot_tree(small_clf, feature_names=X_train.columns.values)"
   ]
  },
  {
   "cell_type": "code",
   "execution_count": null,
   "metadata": {},
   "outputs": [],
   "source": []
  }
 ],
 "metadata": {
  "kernelspec": {
   "display_name": "Python 3",
   "language": "python",
   "name": "python3"
  },
  "language_info": {
   "codemirror_mode": {
    "name": "ipython",
    "version": 3
   },
   "file_extension": ".py",
   "mimetype": "text/x-python",
   "name": "python",
   "nbconvert_exporter": "python",
   "pygments_lexer": "ipython3",
   "version": "3.7.4"
  }
 },
 "nbformat": 4,
 "nbformat_minor": 2
}
